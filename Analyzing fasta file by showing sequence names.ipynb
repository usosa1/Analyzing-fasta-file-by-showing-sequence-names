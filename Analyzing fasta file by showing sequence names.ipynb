{
 "cells": [
  {
   "cell_type": "code",
   "execution_count": 4,
   "id": "e852da4e",
   "metadata": {},
   "outputs": [
    {
     "name": "stdout",
     "output_type": "stream",
     "text": [
      ">5OQ4:A|PDBID|CHAIN|SEQUENCE\n",
      ">3AIH:A|PDBID|CHAIN|SEQUENCE\n",
      ">3AIH:B|PDBID|CHAIN|SEQUENCE\n",
      ">1Y6G:A|PDBID|CHAIN|SEQUENCE\n",
      ">1Y6G:B|PDBID|CHAIN|SEQUENCE\n",
      ">1Y6G:C|PDBID|CHAIN|SEQUENCE\n",
      ">1Y6G:D|PDBID|CHAIN|SEQUENCE\n",
      "None\n"
     ]
    }
   ],
   "source": [
    "\n",
    "def pick_seq_name(file_path):\n",
    "    f=open(file_path)\n",
    "    lines = f.readlines()\n",
    "    for line in lines:\n",
    "       if line[0] == \">\":\n",
    "          seqName = line[:-1]\n",
    "          print(seqName)\n",
    "\n",
    "print(pick_seq_name('MultiSeq.Afasta'))\n"
   ]
  }
 ],
 "metadata": {
  "kernelspec": {
   "display_name": "Python 3 (ipykernel)",
   "language": "python",
   "name": "python3"
  },
  "language_info": {
   "codemirror_mode": {
    "name": "ipython",
    "version": 3
   },
   "file_extension": ".py",
   "mimetype": "text/x-python",
   "name": "python",
   "nbconvert_exporter": "python",
   "pygments_lexer": "ipython3",
   "version": "3.7.3"
  }
 },
 "nbformat": 4,
 "nbformat_minor": 5
}
